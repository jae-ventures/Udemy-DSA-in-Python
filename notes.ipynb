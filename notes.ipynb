{
 "cells": [
  {
   "cell_type": "markdown",
   "metadata": {},
   "source": [
    "# DSA in Python Notes\n",
    "\n",
    "> **Notes for concepts learned in this course.**\n",
    "\n",
    "Author: *@jae_ventures*  \n",
    "Date Created: *12-Dec-2023*\n",
    "\n",
    "**Defining headings**\n",
    "- *H2* => Section\n",
    "- *H3* => Topic in section\n",
    "- *H4+* => Additional sub topics\n",
    "- Quotes are used to bring attention to something if under a heading or to talk about something that doesn't belong to a heading.\n"
   ]
  },
  {
   "cell_type": "code",
   "execution_count": 1,
   "metadata": {},
   "outputs": [
    {
     "name": "stdout",
     "output_type": "stream",
     "text": [
      "hello jae\n"
     ]
    }
   ],
   "source": [
    "print('hello jae')"
   ]
  },
  {
   "cell_type": "markdown",
   "metadata": {},
   "source": [
    "> Popular libraries"
   ]
  },
  {
   "cell_type": "code",
   "execution_count": 4,
   "metadata": {},
   "outputs": [],
   "source": [
    "import numpy as np\n",
    "import pandas as pd"
   ]
  },
  {
   "cell_type": "markdown",
   "metadata": {},
   "source": [
    "> **Note:**  \n",
    "> First few sections may be dry on notes since this is mostly stuff you know.  \n",
    "> You might find something new though, so pay attention.  "
   ]
  },
  {
   "cell_type": "markdown",
   "metadata": {},
   "source": [
    "## Section 3: Arrays\n",
    "\n",
    "###  Create an Array"
   ]
  },
  {
   "cell_type": "code",
   "execution_count": 5,
   "metadata": {},
   "outputs": [
    {
     "name": "stdout",
     "output_type": "stream",
     "text": [
      "array('i')\n",
      "array('i', [1, 2, 3, 4, 5])\n"
     ]
    }
   ],
   "source": [
    "import array\n",
    "\n",
    "# Time complexity: O(1)\n",
    "# Space complexity: O(1)\n",
    "my_array = array.array('i')\n",
    "print(my_array)\n",
    "# Time complexity: O(N)\n",
    "# Space complexity: O(N)\n",
    "my_array1 = array.array('i', [1, 2, 3, 4, 5])\n",
    "print(my_array1)"
   ]
  },
  {
   "cell_type": "code",
   "execution_count": 7,
   "metadata": {},
   "outputs": [
    {
     "name": "stdout",
     "output_type": "stream",
     "text": [
      "[]\n",
      "[1 2 3 4 5]\n"
     ]
    }
   ],
   "source": [
    "import numpy as np\n",
    "\n",
    "# Time complexity: O(1)\n",
    "# Space complexity: O(1)\n",
    "np_array = np.array([], dtype=int)\n",
    "print(np_array)\n",
    "# Time complexity: O(N)\n",
    "# Space complexity: O(N)\n",
    "np_array1 = np.array([1, 2, 3, 4, 5])\n",
    "print(np_array1)"
   ]
  },
  {
   "cell_type": "markdown",
   "metadata": {},
   "source": [
    "### Insertion to Array\n",
    "\n",
    "- The insertion operation will take different amounts of time depending on where you are inserting in the array, but they are all linear\n",
    "  - Front:\n",
    "    - Shift all other elements to the right\n",
    "    - N-1\n",
    "  - Middle somewhere (specific position):\n",
    "    - Shift all other elements to the right from insertion point\n",
    "    - N-1\n",
    "  - End:\n",
    "    - Insert at very end of array\n",
    "    - 1\n",
    "  - Time Complexity: O(N)\n",
    "  - Space Complexity: O(1)"
   ]
  },
  {
   "cell_type": "code",
   "execution_count": 8,
   "metadata": {},
   "outputs": [
    {
     "name": "stdout",
     "output_type": "stream",
     "text": [
      "array('i', [1, 2, 3, 4, 5])\n",
      "array('i', [1, 2, 3, 4, 6, 5])\n"
     ]
    }
   ],
   "source": [
    "import array\n",
    "\n",
    "my_array1 = array.array('i', [1, 2, 3, 4, 5])\n",
    "print(my_array1)\n",
    "my_array1.insert(4, 6)\n",
    "print(my_array1)"
   ]
  },
  {
   "cell_type": "markdown",
   "metadata": {},
   "source": [
    "## Traversal Operation\n",
    "\n",
    "- Time complexity => O(n)\n",
    "- Space complexity => O(1)"
   ]
  },
  {
   "cell_type": "code",
   "execution_count": 12,
   "metadata": {},
   "outputs": [
    {
     "name": "stdout",
     "output_type": "stream",
     "text": [
      "array('i', [1, 2, 3, 4, 5, 6])\n",
      "array('i', [1, 2, 9, 3, 4, 5, 6])\n",
      "1\n",
      "2\n",
      "9\n",
      "3\n",
      "4\n",
      "5\n",
      "6\n",
      "1.3\n",
      "1.5\n",
      "1.6\n"
     ]
    }
   ],
   "source": [
    "from array import *\n",
    "\n",
    "arr1 = array('i', [1, 2, 3, 4, 5, 6])\n",
    "arr2 = array('d', [1.3, 1.5, 1.6])\n",
    "\n",
    "print(arr1)\n",
    "arr1.insert(2, 9)\n",
    "print(arr1)\n",
    "\n",
    "def traverseArray(arr):\n",
    "    for i in arr:\n",
    "        print(i)\n",
    "\n",
    "traverseArray(arr1)\n",
    "traverseArray(arr2)"
   ]
  },
  {
   "cell_type": "markdown",
   "metadata": {},
   "source": [
    "## Accessing an element of Array\n",
    "- Time complexity => O(1)\n",
    "- Space complexity => O(1)"
   ]
  },
  {
   "cell_type": "code",
   "execution_count": 15,
   "metadata": {},
   "outputs": [
    {
     "name": "stdout",
     "output_type": "stream",
     "text": [
      "Index out of bound: There is not any element in this index.\n"
     ]
    }
   ],
   "source": [
    "arr1 = array('i', [1, 2, 3, 4, 5, 6])\n",
    "\n",
    "def accessElement(array, index):\n",
    "    if index >= len(array):\n",
    "        print(\"Index out of bound: There is not any element in this index.\")\n",
    "    else:\n",
    "        print(\"Element at \",index,\" is \", array[index])\n",
    "\n",
    "accessElement(arr1, 6)"
   ]
  },
  {
   "cell_type": "markdown",
   "metadata": {},
   "source": [
    "## Searching for an element in \n",
    "- Time complexity => O(n)\n",
    "- Space complexity => O(1)"
   ]
  },
  {
   "cell_type": "code",
   "execution_count": 18,
   "metadata": {},
   "outputs": [
    {
     "name": "stdout",
     "output_type": "stream",
     "text": [
      "-1\n"
     ]
    }
   ],
   "source": [
    "my_array1 = array('i', [1, 2, 3, 4])\n",
    "\n",
    "def linear_search(arr, target):\n",
    "    for i in range(len(arr)):\n",
    "        if arr[i] == target:\n",
    "            return i\n",
    "    return -1\n",
    "\n",
    "print(linear_search(my_array1, 8))"
   ]
  },
  {
   "cell_type": "markdown",
   "metadata": {},
   "source": [
    "## Deleting element from an Array\n",
    "- Time complexity => O(n)\n",
    "- Space complexity => O(1)"
   ]
  },
  {
   "cell_type": "code",
   "execution_count": 23,
   "metadata": {},
   "outputs": [
    {
     "name": "stdout",
     "output_type": "stream",
     "text": [
      "array('i', [1, 2, 4, 5, 6])\n"
     ]
    }
   ],
   "source": [
    "arr1 = array('i', [1, 2, 3, 4, 5, 6])\n",
    "\n",
    "arr1.remove(3)\n",
    "\n",
    "print(arr1)"
   ]
  },
  {
   "cell_type": "markdown",
   "metadata": {},
   "source": [
    "## Time and Space Complexity of One Dimensional Array\n",
    "\n",
    "|Operation|Time Complexity|Space Complexity|\n",
    "|:---|:---:|:---:|\n",
    "|Creating an empty array|O(1)|O(1)|\n",
    "|Creating an array with elements|O(N)|O(N)|\n",
    "|Inserting a value in an array|O(N)|O(1)|\n",
    "|Traversing a given array|O(N)|O(1)|\n",
    "|Accessing a given cell|O(1)|O(1)|\n",
    "|Searching a given value|O(N)|O(1)|\n",
    "|Deleting a given value|O(N)|O(1)|\n"
   ]
  },
  {
   "cell_type": "markdown",
   "metadata": {},
   "source": [
    "## One Dimensional Array Practice"
   ]
  },
  {
   "cell_type": "code",
   "execution_count": 16,
   "metadata": {},
   "outputs": [],
   "source": [
    "# Imports\n",
    "from array import *"
   ]
  },
  {
   "cell_type": "code",
   "execution_count": 31,
   "metadata": {},
   "outputs": [
    {
     "name": "stdout",
     "output_type": "stream",
     "text": [
      "1\n",
      "2\n",
      "3\n",
      "4\n",
      "5\n"
     ]
    }
   ],
   "source": [
    "# Create an array and traverse it\n",
    "arr = array('i', [1, 2, 3, 4, 5])\n",
    "\n",
    "def traverseArray(arr):\n",
    "    for i in arr:\n",
    "        print(i)\n",
    "\n",
    "traverseArray(arr)"
   ]
  },
  {
   "cell_type": "code",
   "execution_count": 18,
   "metadata": {},
   "outputs": [
    {
     "name": "stdout",
     "output_type": "stream",
     "text": [
      "5\n"
     ]
    }
   ],
   "source": [
    "# Access individual elements through indices\n",
    "print(arr[4])"
   ]
  },
  {
   "cell_type": "code",
   "execution_count": 32,
   "metadata": {},
   "outputs": [
    {
     "name": "stdout",
     "output_type": "stream",
     "text": [
      "1\n",
      "2\n",
      "3\n",
      "4\n",
      "5\n",
      "6\n"
     ]
    }
   ],
   "source": [
    "# Append any value to the array using append() method\n",
    "arr.append(6)\n",
    "traverseArray(arr)"
   ]
  },
  {
   "cell_type": "code",
   "execution_count": 35,
   "metadata": {},
   "outputs": [
    {
     "name": "stdout",
     "output_type": "stream",
     "text": [
      "array('i', [1, 2, 3, 4, 5, 6, 7, 8, 9, 10, 11, 12])\n",
      "array('i', [1, 2, 9, 3, 4, 5, 6, 7, 8, 9, 10, 11, 12])\n"
     ]
    }
   ],
   "source": [
    "# Insert value in an array using insert() method\n",
    "print(arr)\n",
    "arr.insert(2, 9)\n",
    "print(arr)"
   ]
  },
  {
   "cell_type": "code",
   "execution_count": 33,
   "metadata": {},
   "outputs": [
    {
     "name": "stdout",
     "output_type": "stream",
     "text": [
      "1\n",
      "2\n",
      "3\n",
      "4\n",
      "5\n",
      "6\n",
      "7\n",
      "8\n"
     ]
    }
   ],
   "source": [
    "# Extend python array using extend() method\n",
    "arr.extend([7, 8])\n",
    "traverseArray(arr)"
   ]
  },
  {
   "cell_type": "code",
   "execution_count": 34,
   "metadata": {},
   "outputs": [
    {
     "name": "stdout",
     "output_type": "stream",
     "text": [
      "1\n",
      "2\n",
      "3\n",
      "4\n",
      "5\n",
      "6\n",
      "7\n",
      "8\n",
      "9\n",
      "10\n",
      "11\n",
      "12\n"
     ]
    }
   ],
   "source": [
    "# Add items from list into array using fromlist() method\n",
    "temp_list = [9, 10, 11, 12]\n",
    "arr.fromlist(temp_list)\n",
    "traverseArray(arr)"
   ]
  },
  {
   "cell_type": "code",
   "execution_count": 37,
   "metadata": {},
   "outputs": [
    {
     "name": "stdout",
     "output_type": "stream",
     "text": [
      "1\n",
      "2\n",
      "3\n",
      "4\n",
      "5\n",
      "6\n",
      "7\n",
      "8\n",
      "9\n",
      "10\n",
      "11\n",
      "12\n"
     ]
    }
   ],
   "source": [
    "# Remove any array element using remove() method\n",
    "arr.remove(9)\n",
    "traverseArray(arr)"
   ]
  },
  {
   "cell_type": "code",
   "execution_count": 38,
   "metadata": {},
   "outputs": [
    {
     "name": "stdout",
     "output_type": "stream",
     "text": [
      "1\n",
      "2\n",
      "3\n",
      "4\n",
      "5\n",
      "6\n",
      "7\n",
      "8\n",
      "9\n",
      "10\n",
      "11\n"
     ]
    }
   ],
   "source": [
    "# Remove last array element using pop() method\n",
    "arr.pop()\n",
    "traverseArray(arr)"
   ]
  },
  {
   "cell_type": "code",
   "execution_count": 42,
   "metadata": {},
   "outputs": [
    {
     "name": "stdout",
     "output_type": "stream",
     "text": [
      "9\n"
     ]
    }
   ],
   "source": [
    "# Fetch the index of any element in array using index() method\n",
    "print(arr.index(10))"
   ]
  },
  {
   "cell_type": "code",
   "execution_count": 49,
   "metadata": {},
   "outputs": [
    {
     "name": "stdout",
     "output_type": "stream",
     "text": [
      "array('i', [11, 10, 9, 8, 7, 6, 5, 4, 3, 2, 1])\n",
      "array('i', [1, 2, 3, 4, 5, 6, 7, 8, 9, 10, 11])\n"
     ]
    }
   ],
   "source": [
    "# Reverse a python array using reverse() method\n",
    "print(arr)\n",
    "arr.reverse()\n",
    "print(arr)"
   ]
  },
  {
   "cell_type": "code",
   "execution_count": 50,
   "metadata": {},
   "outputs": [
    {
     "name": "stdout",
     "output_type": "stream",
     "text": [
      "(1970877503712, 11)\n"
     ]
    }
   ],
   "source": [
    "# Get array buffer information through buffer_info() method\n",
    "print(arr.buffer_info())"
   ]
  },
  {
   "cell_type": "code",
   "execution_count": 52,
   "metadata": {},
   "outputs": [
    {
     "name": "stdout",
     "output_type": "stream",
     "text": [
      "5\n"
     ]
    }
   ],
   "source": [
    "# Check for number of occurrences of an element using count() method\n",
    "arr.fromlist([4, 4, 4, 4])\n",
    "print(arr.count(4))"
   ]
  },
  {
   "cell_type": "code",
   "execution_count": 57,
   "metadata": {},
   "outputs": [
    {
     "name": "stdout",
     "output_type": "stream",
     "text": [
      "b'\\x01\\x00\\x00\\x00\\x02\\x00\\x00\\x00\\x03\\x00\\x00\\x00\\x04\\x00\\x00\\x00\\x05\\x00\\x00\\x00\\x06\\x00\\x00\\x00\\x07\\x00\\x00\\x00\\x08\\x00\\x00\\x00\\t\\x00\\x00\\x00\\n\\x00\\x00\\x00\\x0b\\x00\\x00\\x00'\n"
     ]
    }
   ],
   "source": [
    "# Convert array to string using tobytes() method\n",
    "print(arr.tobytes())"
   ]
  },
  {
   "cell_type": "code",
   "execution_count": 58,
   "metadata": {},
   "outputs": [
    {
     "name": "stdout",
     "output_type": "stream",
     "text": [
      "[1, 2, 3, 4, 5, 6, 7, 8, 9, 10, 11]\n"
     ]
    }
   ],
   "source": [
    "# Convert array to a Python list with same elements using tolist() method\n",
    "print(arr.tolist())"
   ]
  },
  {
   "cell_type": "code",
   "execution_count": 69,
   "metadata": {},
   "outputs": [
    {
     "name": "stdout",
     "output_type": "stream",
     "text": [
      "b'\\x01\\x00\\x00\\x00\\x02\\x00\\x00\\x00\\x03\\x00\\x00\\x00\\x04\\x00\\x00\\x00\\x05\\x00\\x00\\x00\\x06\\x00\\x00\\x00\\x07\\x00\\x00\\x00\\x08\\x00\\x00\\x00\\t\\x00\\x00\\x00\\n\\x00\\x00\\x00\\x0b\\x00\\x00\\x00'\n",
      "array('i', [1, 2, 3, 4, 5, 6, 7, 8, 9, 10, 11])\n"
     ]
    }
   ],
   "source": [
    "# Append a string to char array using fromstring() method\n",
    "str_temp = arr.tobytes()\n",
    "print(str_temp)\n",
    "ints_arr = array('i')\n",
    "ints_arr.frombytes(str_temp)\n",
    "print(ints_arr)\n"
   ]
  },
  {
   "cell_type": "code",
   "execution_count": 72,
   "metadata": {},
   "outputs": [
    {
     "name": "stdout",
     "output_type": "stream",
     "text": [
      "array('i', [2, 3, 4, 5])\n"
     ]
    }
   ],
   "source": [
    "# Slice elements from an array\n",
    "print(arr[1:5])"
   ]
  },
  {
   "cell_type": "code",
   "execution_count": null,
   "metadata": {},
   "outputs": [],
   "source": []
  }
 ],
 "metadata": {
  "kernelspec": {
   "display_name": "Python 3",
   "language": "python",
   "name": "python3"
  },
  "language_info": {
   "codemirror_mode": {
    "name": "ipython",
    "version": 3
   },
   "file_extension": ".py",
   "mimetype": "text/x-python",
   "name": "python",
   "nbconvert_exporter": "python",
   "pygments_lexer": "ipython3",
   "version": "3.12.0"
  },
  "orig_nbformat": 4
 },
 "nbformat": 4,
 "nbformat_minor": 2
}
